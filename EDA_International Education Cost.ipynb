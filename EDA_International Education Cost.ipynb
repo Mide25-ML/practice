{
 "cells": [
  {
   "cell_type": "markdown",
   "id": "f4cbfb1a",
   "metadata": {},
   "source": [
    "## International Education Cost"
   ]
  },
  {
   "cell_type": "markdown",
   "id": "78326a48",
   "metadata": {},
   "source": [
    "#### Life cycle of Machine learning Project\n",
    "\n",
    "- Understanding the Problem Statement\n",
    "- Data Collection\n",
    "- Data Checks to perform\n",
    "- Exploratory data analysis\n",
    "- Data Pre-Processing\n",
    "- Model Training\n",
    "- Choose best model"
   ]
  },
  {
   "cell_type": "markdown",
   "id": "e0786d1b",
   "metadata": {},
   "source": [
    "### 1) Problem statement\n",
    "- This essence of this project is to understand the cost of schooling abroad across several countries. It puts into consideration, the city, university,living expenses, Duration and lots more. \n",
    "\n",
    "\n",
    "### 2) Data Collection\n",
    "- Dataset Source - https://www.kaggle.com/datasets/adilshamim8/cost-of-international-education\n",
    "- The data consists of 12 column and 907 rows."
   ]
  },
  {
   "cell_type": "markdown",
   "id": "50b8c930",
   "metadata": {},
   "source": [
    "### 2.1 Import Data and Required Packages\n",
    "####  Importing Pandas, Numpy, Matplotlib, Seaborn and Warnings Library."
   ]
  },
  {
   "cell_type": "code",
   "execution_count": 1,
   "id": "cd4c15e8",
   "metadata": {},
   "outputs": [],
   "source": [
    "import numpy as np\n",
    "import pandas as pd\n",
    "import seaborn as sns\n",
    "import matplotlib.pyplot as plt\n",
    "%matplotlib inline\n",
    "import warnings\n",
    "warnings.filterwarnings('ignore')"
   ]
  },
  {
   "cell_type": "markdown",
   "id": "43c95288",
   "metadata": {},
   "source": [
    "#### Import the CSV Data as Pandas DataFrame"
   ]
  },
  {
   "cell_type": "code",
   "execution_count": 7,
   "id": "f76a13dd",
   "metadata": {},
   "outputs": [],
   "source": [
    "df = pd.read_csv(r'C:\\Projects\\practice\\data\\International_Education_Costs.csv')"
   ]
  },
  {
   "cell_type": "markdown",
   "id": "ca6c6805",
   "metadata": {},
   "source": [
    "#### Show Top 5 Dataset"
   ]
  },
  {
   "cell_type": "code",
   "execution_count": 8,
   "id": "988f4307",
   "metadata": {},
   "outputs": [
    {
     "data": {
      "text/html": [
       "<div>\n",
       "<style scoped>\n",
       "    .dataframe tbody tr th:only-of-type {\n",
       "        vertical-align: middle;\n",
       "    }\n",
       "\n",
       "    .dataframe tbody tr th {\n",
       "        vertical-align: top;\n",
       "    }\n",
       "\n",
       "    .dataframe thead th {\n",
       "        text-align: right;\n",
       "    }\n",
       "</style>\n",
       "<table border=\"1\" class=\"dataframe\">\n",
       "  <thead>\n",
       "    <tr style=\"text-align: right;\">\n",
       "      <th></th>\n",
       "      <th>Country</th>\n",
       "      <th>City</th>\n",
       "      <th>University</th>\n",
       "      <th>Program</th>\n",
       "      <th>Level</th>\n",
       "      <th>Duration_Years</th>\n",
       "      <th>Tuition_USD</th>\n",
       "      <th>Living_Cost_Index</th>\n",
       "      <th>Rent_USD</th>\n",
       "      <th>Visa_Fee_USD</th>\n",
       "      <th>Insurance_USD</th>\n",
       "      <th>Exchange_Rate</th>\n",
       "    </tr>\n",
       "  </thead>\n",
       "  <tbody>\n",
       "    <tr>\n",
       "      <th>0</th>\n",
       "      <td>USA</td>\n",
       "      <td>Cambridge</td>\n",
       "      <td>Harvard University</td>\n",
       "      <td>Computer Science</td>\n",
       "      <td>Master</td>\n",
       "      <td>2.0</td>\n",
       "      <td>55400</td>\n",
       "      <td>83.5</td>\n",
       "      <td>2200</td>\n",
       "      <td>160</td>\n",
       "      <td>1500</td>\n",
       "      <td>1.00</td>\n",
       "    </tr>\n",
       "    <tr>\n",
       "      <th>1</th>\n",
       "      <td>UK</td>\n",
       "      <td>London</td>\n",
       "      <td>Imperial College London</td>\n",
       "      <td>Data Science</td>\n",
       "      <td>Master</td>\n",
       "      <td>1.0</td>\n",
       "      <td>41200</td>\n",
       "      <td>75.8</td>\n",
       "      <td>1800</td>\n",
       "      <td>485</td>\n",
       "      <td>800</td>\n",
       "      <td>0.79</td>\n",
       "    </tr>\n",
       "    <tr>\n",
       "      <th>2</th>\n",
       "      <td>Canada</td>\n",
       "      <td>Toronto</td>\n",
       "      <td>University of Toronto</td>\n",
       "      <td>Business Analytics</td>\n",
       "      <td>Master</td>\n",
       "      <td>2.0</td>\n",
       "      <td>38500</td>\n",
       "      <td>72.5</td>\n",
       "      <td>1600</td>\n",
       "      <td>235</td>\n",
       "      <td>900</td>\n",
       "      <td>1.35</td>\n",
       "    </tr>\n",
       "    <tr>\n",
       "      <th>3</th>\n",
       "      <td>Australia</td>\n",
       "      <td>Melbourne</td>\n",
       "      <td>University of Melbourne</td>\n",
       "      <td>Engineering</td>\n",
       "      <td>Master</td>\n",
       "      <td>2.0</td>\n",
       "      <td>42000</td>\n",
       "      <td>71.2</td>\n",
       "      <td>1400</td>\n",
       "      <td>450</td>\n",
       "      <td>650</td>\n",
       "      <td>1.52</td>\n",
       "    </tr>\n",
       "    <tr>\n",
       "      <th>4</th>\n",
       "      <td>Germany</td>\n",
       "      <td>Munich</td>\n",
       "      <td>Technical University of Munich</td>\n",
       "      <td>Mechanical Engineering</td>\n",
       "      <td>Master</td>\n",
       "      <td>2.0</td>\n",
       "      <td>500</td>\n",
       "      <td>70.5</td>\n",
       "      <td>1100</td>\n",
       "      <td>75</td>\n",
       "      <td>550</td>\n",
       "      <td>0.92</td>\n",
       "    </tr>\n",
       "  </tbody>\n",
       "</table>\n",
       "</div>"
      ],
      "text/plain": [
       "     Country       City                      University  \\\n",
       "0        USA  Cambridge              Harvard University   \n",
       "1         UK     London         Imperial College London   \n",
       "2     Canada    Toronto           University of Toronto   \n",
       "3  Australia  Melbourne         University of Melbourne   \n",
       "4    Germany     Munich  Technical University of Munich   \n",
       "\n",
       "                  Program   Level  Duration_Years  Tuition_USD  \\\n",
       "0        Computer Science  Master             2.0        55400   \n",
       "1            Data Science  Master             1.0        41200   \n",
       "2      Business Analytics  Master             2.0        38500   \n",
       "3             Engineering  Master             2.0        42000   \n",
       "4  Mechanical Engineering  Master             2.0          500   \n",
       "\n",
       "   Living_Cost_Index  Rent_USD  Visa_Fee_USD  Insurance_USD  Exchange_Rate  \n",
       "0               83.5      2200           160           1500           1.00  \n",
       "1               75.8      1800           485            800           0.79  \n",
       "2               72.5      1600           235            900           1.35  \n",
       "3               71.2      1400           450            650           1.52  \n",
       "4               70.5      1100            75            550           0.92  "
      ]
     },
     "execution_count": 8,
     "metadata": {},
     "output_type": "execute_result"
    }
   ],
   "source": [
    "df.head()"
   ]
  },
  {
   "cell_type": "markdown",
   "id": "7e008299",
   "metadata": {},
   "source": [
    "### Shape of Data"
   ]
  },
  {
   "cell_type": "code",
   "execution_count": 10,
   "id": "996b7518",
   "metadata": {},
   "outputs": [
    {
     "data": {
      "text/plain": [
       "(907, 12)"
      ]
     },
     "execution_count": 10,
     "metadata": {},
     "output_type": "execute_result"
    }
   ],
   "source": [
    "df.shape"
   ]
  },
  {
   "cell_type": "markdown",
   "id": "32557ff8",
   "metadata": {},
   "source": [
    "### 2.2 Data Information."
   ]
  },
  {
   "cell_type": "markdown",
   "id": "9bad1189",
   "metadata": {},
   "source": [
    "- Country: Country name where the university is located (e.g., “Germany”, “Australia”).\n",
    "- City: City in which the institution sits (e.g., “Munich”, “Melbourne”).\n",
    "- University: Official name of the higher-education institution (e.g., “Technical University of Munich”).\n",
    "- Program: (e.g., “Master of Computer Science”, “MBA”).\n",
    "- Level:  “Undergraduate”, “Master’s”, “PhD”, or other certifications.\n",
    "- Duration_Years:  (e.g., 2 for a typical Master’s).\n",
    "- Tuition_USD\t\n",
    "- Living_Cost_Index:  reflecting relative day-to-day living expenses (food, transport, utilities).\n",
    "- Rent_USD: Average monthly student accommodation rent in U.S. dollars.\n",
    "- Visa_Fee_USD: One-time visa application fee payable by international students, in U.S. dollars.\n",
    "- Insurance_USD: Annual health or student insurance cost in U.S. dollars, as required by many host countries.\n",
    "- Exchange_Rate\n"
   ]
  },
  {
   "cell_type": "markdown",
   "id": "9e115b97",
   "metadata": {},
   "source": [
    "### 3. Data Checks to perform\n",
    "\n",
    "- Check Missing values\n",
    "- Check Duplicates\n",
    "- Check data type\n",
    "- Check the number of unique values of each column\n",
    "- Check statistics of dataset\n",
    "- Check various categories present in the different categorical column"
   ]
  },
  {
   "cell_type": "markdown",
   "id": "572dcf69",
   "metadata": {},
   "source": [
    "### 3.1 Check Missing Values"
   ]
  },
  {
   "cell_type": "code",
   "execution_count": 12,
   "id": "a725404e",
   "metadata": {},
   "outputs": [
    {
     "data": {
      "text/plain": [
       "Country              0\n",
       "City                 0\n",
       "University           0\n",
       "Program              0\n",
       "Level                0\n",
       "Duration_Years       0\n",
       "Tuition_USD          0\n",
       "Living_Cost_Index    0\n",
       "Rent_USD             0\n",
       "Visa_Fee_USD         0\n",
       "Insurance_USD        0\n",
       "Exchange_Rate        0\n",
       "dtype: int64"
      ]
     },
     "execution_count": 12,
     "metadata": {},
     "output_type": "execute_result"
    }
   ],
   "source": [
    "df.isna().sum()"
   ]
  },
  {
   "cell_type": "markdown",
   "id": "be463dad",
   "metadata": {},
   "source": [
    "### There are no Missing Values in this. "
   ]
  },
  {
   "cell_type": "markdown",
   "id": "858ecb15",
   "metadata": {},
   "source": [
    "### 3.2  Check for Duplicate Values"
   ]
  },
  {
   "cell_type": "code",
   "execution_count": 13,
   "id": "1ba59035",
   "metadata": {},
   "outputs": [
    {
     "data": {
      "text/plain": [
       "0"
      ]
     },
     "execution_count": 13,
     "metadata": {},
     "output_type": "execute_result"
    }
   ],
   "source": [
    "df.duplicated().sum()"
   ]
  },
  {
   "cell_type": "markdown",
   "id": "bf68be99",
   "metadata": {},
   "source": [
    "### There are no Duplicate Values"
   ]
  },
  {
   "cell_type": "markdown",
   "id": "a82bcd18",
   "metadata": {},
   "source": [
    "### 3.3 Check Data Type"
   ]
  },
  {
   "cell_type": "code",
   "execution_count": 14,
   "id": "615043e9",
   "metadata": {},
   "outputs": [
    {
     "name": "stdout",
     "output_type": "stream",
     "text": [
      "<class 'pandas.core.frame.DataFrame'>\n",
      "RangeIndex: 907 entries, 0 to 906\n",
      "Data columns (total 12 columns):\n",
      " #   Column             Non-Null Count  Dtype  \n",
      "---  ------             --------------  -----  \n",
      " 0   Country            907 non-null    object \n",
      " 1   City               907 non-null    object \n",
      " 2   University         907 non-null    object \n",
      " 3   Program            907 non-null    object \n",
      " 4   Level              907 non-null    object \n",
      " 5   Duration_Years     907 non-null    float64\n",
      " 6   Tuition_USD        907 non-null    int64  \n",
      " 7   Living_Cost_Index  907 non-null    float64\n",
      " 8   Rent_USD           907 non-null    int64  \n",
      " 9   Visa_Fee_USD       907 non-null    int64  \n",
      " 10  Insurance_USD      907 non-null    int64  \n",
      " 11  Exchange_Rate      907 non-null    float64\n",
      "dtypes: float64(3), int64(4), object(5)\n",
      "memory usage: 85.2+ KB\n"
     ]
    }
   ],
   "source": [
    "df.info()"
   ]
  },
  {
   "cell_type": "markdown",
   "id": "64824093",
   "metadata": {},
   "source": [
    "### 3.4 Check for Unique values"
   ]
  },
  {
   "cell_type": "code",
   "execution_count": 15,
   "id": "ae34d7e1",
   "metadata": {},
   "outputs": [
    {
     "data": {
      "text/plain": [
       "Country               71\n",
       "City                 556\n",
       "University           622\n",
       "Program               92\n",
       "Level                  3\n",
       "Duration_Years         7\n",
       "Tuition_USD          274\n",
       "Living_Cost_Index    225\n",
       "Rent_USD              67\n",
       "Visa_Fee_USD          30\n",
       "Insurance_USD         20\n",
       "Exchange_Rate         65\n",
       "dtype: int64"
      ]
     },
     "execution_count": 15,
     "metadata": {},
     "output_type": "execute_result"
    }
   ],
   "source": [
    "df.nunique()"
   ]
  },
  {
   "cell_type": "markdown",
   "id": "9f5f7281",
   "metadata": {},
   "source": [
    "### 3.5 Check Statistics of Data"
   ]
  },
  {
   "cell_type": "code",
   "execution_count": 16,
   "id": "d3f02230",
   "metadata": {},
   "outputs": [
    {
     "data": {
      "text/html": [
       "<div>\n",
       "<style scoped>\n",
       "    .dataframe tbody tr th:only-of-type {\n",
       "        vertical-align: middle;\n",
       "    }\n",
       "\n",
       "    .dataframe tbody tr th {\n",
       "        vertical-align: top;\n",
       "    }\n",
       "\n",
       "    .dataframe thead th {\n",
       "        text-align: right;\n",
       "    }\n",
       "</style>\n",
       "<table border=\"1\" class=\"dataframe\">\n",
       "  <thead>\n",
       "    <tr style=\"text-align: right;\">\n",
       "      <th></th>\n",
       "      <th>Duration_Years</th>\n",
       "      <th>Tuition_USD</th>\n",
       "      <th>Living_Cost_Index</th>\n",
       "      <th>Rent_USD</th>\n",
       "      <th>Visa_Fee_USD</th>\n",
       "      <th>Insurance_USD</th>\n",
       "      <th>Exchange_Rate</th>\n",
       "    </tr>\n",
       "  </thead>\n",
       "  <tbody>\n",
       "    <tr>\n",
       "      <th>count</th>\n",
       "      <td>907.000000</td>\n",
       "      <td>907.000000</td>\n",
       "      <td>907.000000</td>\n",
       "      <td>907.000000</td>\n",
       "      <td>907.000000</td>\n",
       "      <td>907.000000</td>\n",
       "      <td>907.000000</td>\n",
       "    </tr>\n",
       "    <tr>\n",
       "      <th>mean</th>\n",
       "      <td>2.836825</td>\n",
       "      <td>16705.016538</td>\n",
       "      <td>64.437486</td>\n",
       "      <td>969.206174</td>\n",
       "      <td>211.396913</td>\n",
       "      <td>700.077178</td>\n",
       "      <td>623.000695</td>\n",
       "    </tr>\n",
       "    <tr>\n",
       "      <th>std</th>\n",
       "      <td>0.945449</td>\n",
       "      <td>16582.385275</td>\n",
       "      <td>14.056333</td>\n",
       "      <td>517.154752</td>\n",
       "      <td>143.435740</td>\n",
       "      <td>320.374875</td>\n",
       "      <td>3801.746134</td>\n",
       "    </tr>\n",
       "    <tr>\n",
       "      <th>min</th>\n",
       "      <td>1.000000</td>\n",
       "      <td>0.000000</td>\n",
       "      <td>27.800000</td>\n",
       "      <td>150.000000</td>\n",
       "      <td>40.000000</td>\n",
       "      <td>200.000000</td>\n",
       "      <td>0.150000</td>\n",
       "    </tr>\n",
       "    <tr>\n",
       "      <th>25%</th>\n",
       "      <td>2.000000</td>\n",
       "      <td>2850.000000</td>\n",
       "      <td>56.300000</td>\n",
       "      <td>545.000000</td>\n",
       "      <td>100.000000</td>\n",
       "      <td>450.000000</td>\n",
       "      <td>0.920000</td>\n",
       "    </tr>\n",
       "    <tr>\n",
       "      <th>50%</th>\n",
       "      <td>3.000000</td>\n",
       "      <td>7500.000000</td>\n",
       "      <td>67.500000</td>\n",
       "      <td>900.000000</td>\n",
       "      <td>160.000000</td>\n",
       "      <td>650.000000</td>\n",
       "      <td>1.350000</td>\n",
       "    </tr>\n",
       "    <tr>\n",
       "      <th>75%</th>\n",
       "      <td>4.000000</td>\n",
       "      <td>31100.000000</td>\n",
       "      <td>72.200000</td>\n",
       "      <td>1300.000000</td>\n",
       "      <td>240.000000</td>\n",
       "      <td>800.000000</td>\n",
       "      <td>7.150000</td>\n",
       "    </tr>\n",
       "    <tr>\n",
       "      <th>max</th>\n",
       "      <td>5.000000</td>\n",
       "      <td>62000.000000</td>\n",
       "      <td>122.400000</td>\n",
       "      <td>2500.000000</td>\n",
       "      <td>490.000000</td>\n",
       "      <td>1500.000000</td>\n",
       "      <td>42150.000000</td>\n",
       "    </tr>\n",
       "  </tbody>\n",
       "</table>\n",
       "</div>"
      ],
      "text/plain": [
       "       Duration_Years   Tuition_USD  Living_Cost_Index     Rent_USD  \\\n",
       "count      907.000000    907.000000         907.000000   907.000000   \n",
       "mean         2.836825  16705.016538          64.437486   969.206174   \n",
       "std          0.945449  16582.385275          14.056333   517.154752   \n",
       "min          1.000000      0.000000          27.800000   150.000000   \n",
       "25%          2.000000   2850.000000          56.300000   545.000000   \n",
       "50%          3.000000   7500.000000          67.500000   900.000000   \n",
       "75%          4.000000  31100.000000          72.200000  1300.000000   \n",
       "max          5.000000  62000.000000         122.400000  2500.000000   \n",
       "\n",
       "       Visa_Fee_USD  Insurance_USD  Exchange_Rate  \n",
       "count    907.000000     907.000000     907.000000  \n",
       "mean     211.396913     700.077178     623.000695  \n",
       "std      143.435740     320.374875    3801.746134  \n",
       "min       40.000000     200.000000       0.150000  \n",
       "25%      100.000000     450.000000       0.920000  \n",
       "50%      160.000000     650.000000       1.350000  \n",
       "75%      240.000000     800.000000       7.150000  \n",
       "max      490.000000    1500.000000   42150.000000  "
      ]
     },
     "execution_count": 16,
     "metadata": {},
     "output_type": "execute_result"
    }
   ],
   "source": [
    "df.describe()"
   ]
  },
  {
   "cell_type": "markdown",
   "id": "98c94d71",
   "metadata": {},
   "source": [
    "### Insights\n",
    "\n",
    "- Since our data is diverse, we can see that Tuition has a mean and almost same std.\n",
    "- For Exchange Rate, it might indicate that there's an outlier in that the std is way higher than mean"
   ]
  },
  {
   "cell_type": "markdown",
   "id": "ae06e463",
   "metadata": {},
   "source": [
    "### 3.8 Exploring Data "
   ]
  },
  {
   "cell_type": "code",
   "execution_count": null,
   "id": "2c16c8db",
   "metadata": {},
   "outputs": [
    {
     "data": {
      "text/html": [
       "<div>\n",
       "<style scoped>\n",
       "    .dataframe tbody tr th:only-of-type {\n",
       "        vertical-align: middle;\n",
       "    }\n",
       "\n",
       "    .dataframe tbody tr th {\n",
       "        vertical-align: top;\n",
       "    }\n",
       "\n",
       "    .dataframe thead th {\n",
       "        text-align: right;\n",
       "    }\n",
       "</style>\n",
       "<table border=\"1\" class=\"dataframe\">\n",
       "  <thead>\n",
       "    <tr style=\"text-align: right;\">\n",
       "      <th></th>\n",
       "      <th>Country</th>\n",
       "      <th>City</th>\n",
       "      <th>University</th>\n",
       "      <th>Program</th>\n",
       "      <th>Level</th>\n",
       "      <th>Duration_Years</th>\n",
       "      <th>Tuition_USD</th>\n",
       "      <th>Living_Cost_Index</th>\n",
       "      <th>Rent_USD</th>\n",
       "      <th>Visa_Fee_USD</th>\n",
       "      <th>Insurance_USD</th>\n",
       "      <th>Exchange_Rate</th>\n",
       "    </tr>\n",
       "  </thead>\n",
       "  <tbody>\n",
       "    <tr>\n",
       "      <th>0</th>\n",
       "      <td>USA</td>\n",
       "      <td>Cambridge</td>\n",
       "      <td>Harvard University</td>\n",
       "      <td>Computer Science</td>\n",
       "      <td>Master</td>\n",
       "      <td>2.0</td>\n",
       "      <td>55400</td>\n",
       "      <td>83.5</td>\n",
       "      <td>2200</td>\n",
       "      <td>160</td>\n",
       "      <td>1500</td>\n",
       "      <td>1.00</td>\n",
       "    </tr>\n",
       "    <tr>\n",
       "      <th>1</th>\n",
       "      <td>UK</td>\n",
       "      <td>London</td>\n",
       "      <td>Imperial College London</td>\n",
       "      <td>Data Science</td>\n",
       "      <td>Master</td>\n",
       "      <td>1.0</td>\n",
       "      <td>41200</td>\n",
       "      <td>75.8</td>\n",
       "      <td>1800</td>\n",
       "      <td>485</td>\n",
       "      <td>800</td>\n",
       "      <td>0.79</td>\n",
       "    </tr>\n",
       "    <tr>\n",
       "      <th>2</th>\n",
       "      <td>Canada</td>\n",
       "      <td>Toronto</td>\n",
       "      <td>University of Toronto</td>\n",
       "      <td>Business Analytics</td>\n",
       "      <td>Master</td>\n",
       "      <td>2.0</td>\n",
       "      <td>38500</td>\n",
       "      <td>72.5</td>\n",
       "      <td>1600</td>\n",
       "      <td>235</td>\n",
       "      <td>900</td>\n",
       "      <td>1.35</td>\n",
       "    </tr>\n",
       "    <tr>\n",
       "      <th>3</th>\n",
       "      <td>Australia</td>\n",
       "      <td>Melbourne</td>\n",
       "      <td>University of Melbourne</td>\n",
       "      <td>Engineering</td>\n",
       "      <td>Master</td>\n",
       "      <td>2.0</td>\n",
       "      <td>42000</td>\n",
       "      <td>71.2</td>\n",
       "      <td>1400</td>\n",
       "      <td>450</td>\n",
       "      <td>650</td>\n",
       "      <td>1.52</td>\n",
       "    </tr>\n",
       "    <tr>\n",
       "      <th>4</th>\n",
       "      <td>Germany</td>\n",
       "      <td>Munich</td>\n",
       "      <td>Technical University of Munich</td>\n",
       "      <td>Mechanical Engineering</td>\n",
       "      <td>Master</td>\n",
       "      <td>2.0</td>\n",
       "      <td>500</td>\n",
       "      <td>70.5</td>\n",
       "      <td>1100</td>\n",
       "      <td>75</td>\n",
       "      <td>550</td>\n",
       "      <td>0.92</td>\n",
       "    </tr>\n",
       "  </tbody>\n",
       "</table>\n",
       "</div>"
      ],
      "text/plain": [
       "     Country       City                      University  \\\n",
       "0        USA  Cambridge              Harvard University   \n",
       "1         UK     London         Imperial College London   \n",
       "2     Canada    Toronto           University of Toronto   \n",
       "3  Australia  Melbourne         University of Melbourne   \n",
       "4    Germany     Munich  Technical University of Munich   \n",
       "\n",
       "                  Program   Level  Duration_Years  Tuition_USD  \\\n",
       "0        Computer Science  Master             2.0        55400   \n",
       "1            Data Science  Master             1.0        41200   \n",
       "2      Business Analytics  Master             2.0        38500   \n",
       "3             Engineering  Master             2.0        42000   \n",
       "4  Mechanical Engineering  Master             2.0          500   \n",
       "\n",
       "   Living_Cost_Index  Rent_USD  Visa_Fee_USD  Insurance_USD  Exchange_Rate  \n",
       "0               83.5      2200           160           1500           1.00  \n",
       "1               75.8      1800           485            800           0.79  \n",
       "2               72.5      1600           235            900           1.35  \n",
       "3               71.2      1400           450            650           1.52  \n",
       "4               70.5      1100            75            550           0.92  "
      ]
     },
     "execution_count": 17,
     "metadata": {},
     "output_type": "execute_result"
    }
   ],
   "source": [
    "df.head()"
   ]
  },
  {
   "cell_type": "code",
   "execution_count": 19,
   "id": "0e091f91",
   "metadata": {},
   "outputs": [
    {
     "name": "stdout",
     "output_type": "stream",
     "text": [
      "Categories in 'Country' variables: ['USA' 'UK' 'Canada' 'Australia' 'Germany' 'Japan' 'Netherlands'\n",
      " 'Singapore' 'France' 'Switzerland' 'Sweden' 'Denmark' 'China'\n",
      " 'South Korea' 'Ireland' 'New Zealand' 'Austria' 'Belgium' 'Hong Kong'\n",
      " 'Portugal' 'Israel' 'Taiwan' 'Czech Republic' 'India' 'Poland' 'Malaysia'\n",
      " 'Spain' 'Italy' 'Finland' 'Norway' 'Brazil' 'Turkey' 'Russia' 'Mexico'\n",
      " 'Greece' 'Thailand' 'UAE' 'South Africa' 'Egypt' 'Argentina' 'Indonesia'\n",
      " 'Saudi Arabia' 'Nigeria' 'Vietnam' 'Hungary' 'Iceland' 'Colombia'\n",
      " 'Romania' 'Luxembourg' 'Tunisia' 'Cyprus' 'Croatia' 'Dominican Republic'\n",
      " 'Morocco' 'Peru' 'Ecuador' 'Lebanon' 'Bahrain' 'Uruguay' 'Bulgaria'\n",
      " 'Ghana' 'Algeria' 'Panama' 'Bangladesh' 'Kuwait' 'Ukraine' 'Slovenia'\n",
      " 'Serbia' 'Iran' 'Uzbekistan' 'El Salvador']\n",
      "Categories in 'City' variables: ['Cambridge' 'London' 'Toronto' 'Melbourne' 'Munich' 'Tokyo' 'Amsterdam'\n",
      " 'Singapore' 'Paris' 'Zurich' 'Stockholm' 'Copenhagen' 'Beijing' 'Seoul'\n",
      " 'Dublin' 'Busan' 'Auckland' 'Vienna' 'Brussels' 'Ann Arbor' 'Atlanta'\n",
      " 'Austin' 'Bristol' 'Ottawa' 'Hong Kong' 'Lisbon' 'Tel Aviv' 'Taipei'\n",
      " 'Prague' 'Stanford' 'Boston' 'Oxford' 'Heidelberg' 'Basel' 'Delft'\n",
      " 'Waterloo' 'Canberra' 'Lund' 'San Diego' 'Seattle' 'Edmonton' 'Glasgow'\n",
      " 'Bangalore' 'Aalborg' 'Warsaw' 'Galway' 'Daejeon' 'Kuala Lumpur'\n",
      " 'Berkeley' 'Manchester' 'Vancouver' 'Sydney' 'Berlin' 'Barcelona' 'Milan'\n",
      " 'Rotterdam' 'Helsinki' 'Oslo' 'Osaka' 'Kyoto' 'Nagoya' 'Sendai' 'Fukuoka'\n",
      " 'Sapporo' 'Tsukuba' 'Kobe' 'Kanazawa' 'Hiroshima' 'Adelaide' 'Perth'\n",
      " 'Gold Coast' 'Hobart' 'Newcastle' 'Wollongong' 'Darwin' 'Townsville'\n",
      " 'Sunshine Coast' 'Armidale' 'Dresden' 'Stuttgart' 'Hamburg' 'Aachen'\n",
      " 'Karlsruhe' 'Darmstadt' 'Braunschweig' 'Jena' 'Hannover' 'Freiburg'\n",
      " 'Philadelphia' 'Chicago' 'Baltimore' 'Nashville' 'Durham' 'Madison'\n",
      " 'Tempe' 'Boulder' 'Minneapolis' 'Davis' 'Leeds' 'Warwick' 'Sheffield'\n",
      " 'Birmingham' 'Southampton' 'Nottingham' 'Cardiff' 'Belfast' 'Hamilton'\n",
      " 'London ON' 'Halifax' 'Victoria' 'Quebec City' 'Winnipeg' 'Regina'\n",
      " \"St. John's\" 'Saskatoon' 'Sherbrooke' 'Pittsburgh' 'Urbana-Champaign'\n",
      " 'Calgary' 'Sao Paulo' 'Istanbul' 'Moscow' 'Mexico City' 'Athens'\n",
      " 'Bangkok' 'Dubai' 'New York' 'Ithaca' 'Shenzhen' 'Cape Town' 'Cairo'\n",
      " 'Buenos Aires' 'Jakarta' 'Riyadh' 'Lagos' 'Ho Chi Minh City' 'Eindhoven'\n",
      " 'Enschede' 'Groningen' 'Maastricht' 'Nijmegen' 'Tilburg' 'Utrecht'\n",
      " 'Leiden' 'Wageningen' 'Toulouse' 'Lyon' 'Grenoble' 'Nice' 'Bordeaux'\n",
      " 'Lille' 'Rennes' 'Strasbourg' 'Montpellier' 'Lausanne' 'Geneva' 'Bern'\n",
      " 'St. Gallen' 'Lugano' 'Fribourg' 'Neuchatel' 'Lucerne' 'Winterthur'\n",
      " 'Aarhus' 'Shanghai' 'Hangzhou' 'Nanjing' 'Guangzhou' 'Wuhan' \"Xi'an\"\n",
      " 'Chengdu' 'Daegu' 'Gwangju' 'Ulsan' 'Pohang' 'Incheon' 'Suwon' 'Cheongju'\n",
      " 'New Haven' 'Princeton' 'Los Angeles' 'Urbana' 'Columbus'\n",
      " 'West Lafayette' 'Gainesville' 'Raleigh' 'College Station' 'Corvallis'\n",
      " 'Edinburgh' 'Liverpool' 'Aberdeen' 'Leicester' 'Reading' 'Sussex' 'Essex'\n",
      " 'Bath' 'Surrey' 'Exeter' 'Kent' 'Dundee' 'Strathclyde' 'Heriot-Watt'\n",
      " 'Loughborough' 'Brunel' 'Queen Mary' 'Royal Holloway' 'Lancaster'\n",
      " 'Swansea' 'Aston' 'Hull' 'Keele' 'Plymouth' 'Portsmouth' 'Ulster'\n",
      " 'Northumbria' 'Coventry' 'Oxford Brookes' 'De Montfort' 'Westminster'\n",
      " 'Greenwich' 'Kingston' 'Montreal' 'Windsor' 'Moncton' 'Trois-Rivieres'\n",
      " 'Thunder Bay' 'Sudbury' 'Prince George' 'Brisbane' 'Toowoomba' 'Ballarat'\n",
      " 'Lismore' 'Frankfurt' 'Cologne' 'Bonn' 'San Francisco' 'Cork' 'Limerick'\n",
      " 'Maynooth' 'Denver' 'Waterford' 'Portland' 'Sligo' 'Athlone' 'Trondheim'\n",
      " 'Espoo' 'Bergen' 'Tampere' 'Odense' 'Tromsø' 'Turku' 'Stavanger' 'Oulu'\n",
      " 'Roskilde' 'Ås' 'Vaasa' 'Lyngby' 'Bodø' 'Jyväskylä' 'Kolding' 'Gjøvik'\n",
      " 'Lappeenranta' 'Bremen' 'Esbjerg' 'Kristiansand' 'Kuopio' 'Slagelse'\n",
      " 'Horten' 'Joensuu' 'Herning' 'Wellington' 'Uppsala' 'Porto'\n",
      " 'Christchurch' 'Gothenburg' 'Coimbra' 'Dunedin' 'Braga' 'Linköping'\n",
      " 'Aveiro' 'Palmerston North' 'Umeå' 'Faro' 'Karlstad' 'Vila Real' 'Växjö'\n",
      " 'Funchal' 'Madrid' 'Rome' 'Thessaloniki' 'Graz' 'Monterrey' 'Valencia'\n",
      " 'Turin' 'Patras' 'Linz' 'Guadalajara' 'Seville' 'Bologna' 'Heraklion'\n",
      " 'Salzburg' 'Puebla' 'Bilbao' 'Florence' 'Volos' 'Innsbruck' 'Queretaro'\n",
      " 'Granada' 'Naples' 'Ioannina' 'Klagenfurt' 'Merida' 'Zaragoza' 'Pisa'\n",
      " 'Rhodes' 'Leoben' 'Tijuana' 'Salamanca' 'Padua' 'Chania' 'Dornbirn'\n",
      " 'San Luis Potosi' 'Leuven' 'Budapest' 'Ankara' 'Ghent' 'Debrecen'\n",
      " 'Saint Petersburg' 'Izmir' 'Szeged' 'Novosibirsk' 'Eskisehir' 'Antwerp'\n",
      " 'Pecs' 'Kazan' 'Bursa' 'Louvain' 'Gyor' 'Tomsk' 'Antalya' 'Piraeus'\n",
      " 'Hasselt' 'Miskolc' 'Yekaterinburg' 'Kayseri' 'Xanthi' 'Liege' 'Veszprem'\n",
      " 'Samara' 'Konya' 'Chios' 'Mons' 'Kecskemet' 'Rostov-on-Don'\n",
      " 'Rio de Janeiro' 'Mumbai' 'Chiang Mai' 'Abu Dhabi' 'Campinas' 'Delhi'\n",
      " 'Khon Kaen' 'Alexandria' 'Sharjah' 'Porto Alegre' 'Chennai' 'Phuket'\n",
      " 'Giza' 'Ajman' 'Recife' 'Hyderabad' 'Hat Yai' 'Port Said' 'Al Ain'\n",
      " 'Florianopolis' 'Pune' 'Nakhon Ratchasima' 'Mansoura' 'Ras Al Khaimah'\n",
      " 'Salvador' 'Kanpur' 'Songkhla' 'Aswan' 'Fujairah' 'Reykjavik' 'Bogota'\n",
      " 'Bucharest' 'Luxembourg City' 'Akureyri' 'Medellin' 'Krakow'\n",
      " 'Cluj-Napoca' 'Esch-sur-Alzette' 'Bandung' 'Cali' 'Wroclaw' 'Timisoara'\n",
      " 'Belval' 'Yogyakarta' 'Hafnarfjordur' 'Barranquilla' 'Poznan' 'Iasi'\n",
      " 'Kirchberg' 'Surabaya' 'Kopavogur' 'Bucaramanga' 'Gdansk' 'Brasov'\n",
      " 'Differdange' 'Malang' 'Lodz' 'Constanta' 'Walferdange' 'Semarang'\n",
      " 'Borgarnes' 'Cartagena' 'Katowice' 'Craiova' 'Bertrange' 'Denpasar'\n",
      " 'Tunis' 'Nicosia' 'Zagreb' 'Santo Domingo' 'Rabat' 'Lima' 'Sfax'\n",
      " 'Limassol' 'Split' 'Santiago' 'Casablanca' 'Arequipa' 'Cordoba' 'Sousse'\n",
      " 'Larnaca' 'Rijeka' 'La Romana' 'Fez' 'Trujillo' 'Rosario' 'Monastir'\n",
      " 'Famagusta' 'Osijek' 'San Pedro' 'Marrakech' 'Cusco' 'La Plata' 'Gabes'\n",
      " 'Zadar' 'Paphos' 'Puerto Plata' 'Tangier' 'Piura' 'Mendoza' 'Bizerte'\n",
      " 'Girne' 'Dubrovnik' 'Oujda' 'Chiclayo' 'Quito' 'Beirut' 'Manama'\n",
      " 'Montevideo' 'Sofia' 'Accra' 'Algiers' 'Panama City' 'Guayaquil' 'Byblos'\n",
      " 'Riffa' 'Salto' 'Plovdiv' 'Kumasi' 'Oran' 'David' 'Cuenca' 'Tripoli'\n",
      " 'Isa Town' 'Maldonado' 'Varna' 'Cape Coast' 'Constantine' 'Loja'\n",
      " 'Jounieh' 'Sakhir' 'Rivera' 'Burgas' 'Tamale' 'Annaba' 'Chitré' 'Ambato'\n",
      " 'Sidon' 'Muharraq' 'Paysandu' 'Ruse' 'Ho' 'Tlemcen' 'La Chorrera' 'Dhaka'\n",
      " 'Kuwait City' 'Kyiv' 'Ljubljana' 'Belgrade' 'Tehran' 'Tashkent'\n",
      " 'San Salvador' 'Chittagong' 'Hawalli' 'Lviv' 'Maribor' 'Novi Sad'\n",
      " 'Isfahan' 'Samarkand' 'Santa Ana' 'Khulna' 'Al Jahra' 'Kharkiv' 'Koper'\n",
      " 'Nis' 'Mashhad' 'Bukhara' 'San Miguel' 'Rajshahi' 'Salmiya' 'Odesa'\n",
      " 'Nova Gorica' 'Kragujevac' 'Shiraz' 'Namangan' 'Sonsonate' 'Sylhet'\n",
      " 'Al Ahmadi' 'Dnipro' 'Celje' 'Subotica' 'Tabriz' 'Andijan' 'Santa Tecla'\n",
      " 'Penang' 'Jeddah' 'Johor Bahru' 'Dhahran' 'Kuching' 'Medina' 'MIT'\n",
      " 'Marseille' 'Cyberjaya' 'Dammam' 'Bangi' 'Taif' 'Melaka' 'Tabuk'\n",
      " 'Shah Alam' 'Makkah' 'Nilai' 'Al-Ahsa']\n",
      "Categories in 'Program' variables: ['Computer Science' 'Data Science' 'Business Analytics' 'Engineering'\n",
      " 'Mechanical Engineering' 'Information Science' 'Artificial Intelligence'\n",
      " 'Finance' 'International Relations' 'Physics' 'Sustainable Technology'\n",
      " 'Bioinformatics' 'Computer Engineering' 'Digital Media' 'Data Analytics'\n",
      " 'Business' 'Marine Biology' 'Social Sciences' 'Biomedical Sciences'\n",
      " 'Aerospace Engineering' 'Industrial Engineering' 'Chemical Engineering'\n",
      " 'Mathematics' 'Political Science' 'Architecture'\n",
      " 'Electronics Engineering' 'Medicine' 'Electrical Engineering'\n",
      " 'Molecular Biology' 'Pharmaceutical Sciences' 'Robotics'\n",
      " 'Quantum Computing' 'Climate Science' 'Neuroscience' 'Economics'\n",
      " 'Psychology' 'International Business' 'Design' 'Environmental Science'\n",
      " 'Software Engineering' 'Information Systems' 'Information Technology'\n",
      " 'Software Development' 'Computing Science' 'Data Engineering'\n",
      " 'Software Systems' 'Digital Engineering' 'Robotics & AI' 'Cybersecurity'\n",
      " 'Computing Systems' 'Applied Mathematics' 'Software Science'\n",
      " 'Game Technology' 'Computer Science & Design' 'Data Science & AI'\n",
      " 'Technology & Innovation' 'Computing & Innovation' 'Digital Systems & AI'\n",
      " 'Digital Systems' 'Business Informatics' 'Computational Science'\n",
      " 'Digital Innovation' 'Robotics Engineering' 'AI Engineering'\n",
      " 'Computer Systems' 'Information Security' 'Computer Networks' 'Chemistry'\n",
      " 'Biotechnology' 'Marine Technology' 'Energy Engineering'\n",
      " 'Petroleum Engineering' 'Industrial Management' 'Mechatronics'\n",
      " 'Quantum Engineering' 'Environmental Engineering' 'Renewable Energy'\n",
      " 'Materials Science' 'Systems Engineering' 'Forestry Sciences' 'Photonics'\n",
      " 'Engineering Management' 'Engineering Physics' 'Sustainable Energy'\n",
      " 'Machine Learning' 'Environmental Computing' 'Computing' 'Electronics'\n",
      " 'Electronic Engineering' 'Digital Design' 'Digital Business'\n",
      " 'Data Systems']\n"
     ]
    }
   ],
   "source": [
    "print(\"Categories in 'Country' variables: \", end=\"\")\n",
    "print(df['Country'].unique())\n",
    "\n",
    "print(\"Categories in 'City' variables: \", end=\"\")\n",
    "print(df['City'].unique())\n",
    "\n",
    "print(\"Categories in 'Program' variables: \", end=\"\")\n",
    "print(df['Program'].unique())"
   ]
  },
  {
   "cell_type": "markdown",
   "id": "21b65ec1",
   "metadata": {},
   "source": [
    "### 3.9 Seperate Categorical from Numeric"
   ]
  },
  {
   "cell_type": "code",
   "execution_count": 25,
   "id": "5e8259c7",
   "metadata": {},
   "outputs": [
    {
     "name": "stdout",
     "output_type": "stream",
     "text": [
      "We have 7 numerical features: ['Duration_Years', 'Tuition_USD', 'Living_Cost_Index', 'Rent_USD', 'Visa_Fee_USD', 'Insurance_USD', 'Exchange_Rate']\n",
      "We have 5 numerical features: ['Country', 'City', 'University', 'Program', 'Level']\n"
     ]
    }
   ],
   "source": [
    "numeric_features = [feature for feature in df.columns if df[feature].dtype != 'O']\n",
    "catgorical_features = [feature for feature in df.columns if df[feature].dtype == 'O']\n",
    "\n",
    "#print out the features\n",
    "print('We have {} numerical features: {}'.format(len(numeric_features), numeric_features))\n",
    "print('We have {} numerical features: {}'.format(len(catgorical_features), catgorical_features))"
   ]
  },
  {
   "cell_type": "markdown",
   "id": "16a15548",
   "metadata": {},
   "source": [
    "### 3.10 Create the average of the Tuition"
   ]
  },
  {
   "cell_type": "code",
   "execution_count": 36,
   "id": "15017a21",
   "metadata": {},
   "outputs": [
    {
     "data": {
      "text/plain": [
       "Country\n",
       "USA          47742.307692\n",
       "Australia    34610.465116\n",
       "Singapore    34172.222222\n",
       "UK           30341.935484\n",
       "Canada       29456.578947\n",
       "Name: Tuition_USD, dtype: float64"
      ]
     },
     "execution_count": 36,
     "metadata": {},
     "output_type": "execute_result"
    }
   ],
   "source": [
    "avg_tuition = df.groupby('Country')['Tuition_USD'].mean().sort_values(ascending=False)\n",
    "avg_tuition.head()"
   ]
  },
  {
   "cell_type": "code",
   "execution_count": 26,
   "id": "12335891",
   "metadata": {},
   "outputs": [
    {
     "data": {
      "text/html": [
       "<div>\n",
       "<style scoped>\n",
       "    .dataframe tbody tr th:only-of-type {\n",
       "        vertical-align: middle;\n",
       "    }\n",
       "\n",
       "    .dataframe tbody tr th {\n",
       "        vertical-align: top;\n",
       "    }\n",
       "\n",
       "    .dataframe thead th {\n",
       "        text-align: right;\n",
       "    }\n",
       "</style>\n",
       "<table border=\"1\" class=\"dataframe\">\n",
       "  <thead>\n",
       "    <tr style=\"text-align: right;\">\n",
       "      <th></th>\n",
       "      <th>Country</th>\n",
       "      <th>City</th>\n",
       "      <th>University</th>\n",
       "      <th>Program</th>\n",
       "      <th>Level</th>\n",
       "      <th>Duration_Years</th>\n",
       "      <th>Tuition_USD</th>\n",
       "      <th>Living_Cost_Index</th>\n",
       "      <th>Rent_USD</th>\n",
       "      <th>Visa_Fee_USD</th>\n",
       "      <th>Insurance_USD</th>\n",
       "      <th>Exchange_Rate</th>\n",
       "    </tr>\n",
       "  </thead>\n",
       "  <tbody>\n",
       "    <tr>\n",
       "      <th>0</th>\n",
       "      <td>USA</td>\n",
       "      <td>Cambridge</td>\n",
       "      <td>Harvard University</td>\n",
       "      <td>Computer Science</td>\n",
       "      <td>Master</td>\n",
       "      <td>2.0</td>\n",
       "      <td>55400</td>\n",
       "      <td>83.5</td>\n",
       "      <td>2200</td>\n",
       "      <td>160</td>\n",
       "      <td>1500</td>\n",
       "      <td>1.00</td>\n",
       "    </tr>\n",
       "    <tr>\n",
       "      <th>1</th>\n",
       "      <td>UK</td>\n",
       "      <td>London</td>\n",
       "      <td>Imperial College London</td>\n",
       "      <td>Data Science</td>\n",
       "      <td>Master</td>\n",
       "      <td>1.0</td>\n",
       "      <td>41200</td>\n",
       "      <td>75.8</td>\n",
       "      <td>1800</td>\n",
       "      <td>485</td>\n",
       "      <td>800</td>\n",
       "      <td>0.79</td>\n",
       "    </tr>\n",
       "  </tbody>\n",
       "</table>\n",
       "</div>"
      ],
      "text/plain": [
       "  Country       City               University           Program   Level  \\\n",
       "0     USA  Cambridge       Harvard University  Computer Science  Master   \n",
       "1      UK     London  Imperial College London      Data Science  Master   \n",
       "\n",
       "   Duration_Years  Tuition_USD  Living_Cost_Index  Rent_USD  Visa_Fee_USD  \\\n",
       "0             2.0        55400               83.5      2200           160   \n",
       "1             1.0        41200               75.8      1800           485   \n",
       "\n",
       "   Insurance_USD  Exchange_Rate  \n",
       "0           1500           1.00  \n",
       "1            800           0.79  "
      ]
     },
     "execution_count": 26,
     "metadata": {},
     "output_type": "execute_result"
    }
   ],
   "source": [
    "df.head(2)"
   ]
  },
  {
   "cell_type": "markdown",
   "id": "14838c4b",
   "metadata": {},
   "source": [
    "## 4.0 Exploring the Data Visually \n"
   ]
  },
  {
   "cell_type": "markdown",
   "id": "35ea5525",
   "metadata": {},
   "source": [
    "\n",
    "#### 4.1 Visualize Tution distribution to make some conclusion. \n",
    "- Histogram\n",
    "- Kernel Distribution Function (KDE)"
   ]
  },
  {
   "cell_type": "markdown",
   "id": "f4130238",
   "metadata": {},
   "source": [
    "#### 4.1.1 Histogram & KDE"
   ]
  },
  {
   "cell_type": "markdown",
   "id": "e7e3cdd7",
   "metadata": {},
   "source": [
    "#### Exploratory Data on the Duration of Years. "
   ]
  },
  {
   "cell_type": "code",
   "execution_count": 33,
   "id": "e9f5e45c",
   "metadata": {},
   "outputs": [
    {
     "data": {
      "image/png": "[encoded data removed]",
      "text/plain": [
       "<Figure size 1080x504 with 2 Axes>"
      ]
     },
     "metadata": {
      "needs_background": "light"
     },
     "output_type": "display_data"
    }
   ],
   "source": [
    "fig, axs = plt.subplots(1, 2, figsize=(15,7))\n",
    "plt.subplot(121)\n",
    "sns.histplot(data=df,x='Duration_Years',bins=20,kde=True,color='g')\n",
    "plt.subplot(122)\n",
    "sns.histplot(data=df,x='Duration_Years',kde=True,hue='Level')\n",
    "plt.show()\n"
   ]
  },
  {
   "cell_type": "markdown",
   "id": "ea1ae1b7",
   "metadata": {},
   "source": [
    "#### Insights\n",
    "\n",
    "- The highest duration of years is two years and it's majorly from people doing a masters, we observe that Bachelors alternate between 3 years and 4 years while PhD is alternating between 4 & 5"
   ]
  },
  {
   "cell_type": "code",
   "execution_count": 41,
   "id": "46fbb620",
   "metadata": {},
   "outputs": [
    {
     "data": {
      "image/png": "[encoded data removed]",
      "text/plain": [
       "<Figure size 1080x504 with 2 Axes>"
      ]
     },
     "metadata": {
      "needs_background": "light"
     },
     "output_type": "display_data"
    }
   ],
   "source": [
    "fig, axs = plt.subplots(1, 2, figsize=(15,7))\n",
    "\n",
    "#Plot 1 Tution_USD\n",
    "sns.histplot(data=df,x='Tuition_USD',bins=20,kde=True,color='g', ax = axs[0])\n",
    "axs[0].set_title('Distribution of Duration_Years')\n",
    "axs[0].set_xlabel('Duration (Years)')\n",
    "axs[0].set_ylabel('Frequency')\n",
    "\n",
    "#Plot 2 Country\n",
    "sns.countplot(data=df, x='Country', color='b', ax=axs[1])\n",
    "axs[1].set_title(' Distribution of Country')\n",
    "axs[1].set_xlabel('Country')\n",
    "axs[1].set_ylabel('Frequency')\n",
    "axs[1].tick_params(axis='x', rotation=90)\n",
    "plt.show()"
   ]
  },
  {
   "cell_type": "markdown",
   "id": "7dc92de4",
   "metadata": {},
   "source": [
    "### Average Tuition Fee by Country "
   ]
  },
  {
   "cell_type": "code",
   "execution_count": null,
   "id": "d01ad054",
   "metadata": {},
   "outputs": [],
   "source": []
  }
 ],
 "metadata": {
  "kernelspec": {
   "display_name": "base",
   "language": "python",
   "name": "python3"
  },
  "language_info": {
   "codemirror_mode": {
    "name": "ipython",
    "version": 3
   },
   "file_extension": ".py",
   "mimetype": "text/x-python",
   "name": "python",
   "nbconvert_exporter": "python",
   "pygments_lexer": "ipython3",
   "version": "3.8.8"
  }
 },
 "nbformat": 4,
 "nbformat_minor": 5
}
